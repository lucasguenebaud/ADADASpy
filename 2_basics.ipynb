{
 "metadata": {
  "language_info": {
   "codemirror_mode": {
    "name": "ipython",
    "version": 3
   },
   "file_extension": ".py",
   "mimetype": "text/x-python",
   "name": "python",
   "nbconvert_exporter": "python",
   "pygments_lexer": "ipython3",
   "version": "3.8.3-final"
  },
  "orig_nbformat": 2,
  "kernelspec": {
   "name": "python38364bitbaseconda75ba7d5fe98f42c3afbc9e1c45acc399",
   "display_name": "Python 3.8.3 64-bit ('base': conda)"
  }
 },
 "nbformat": 4,
 "nbformat_minor": 2,
 "cells": [
  {
   "source": [
    "# Python basics\n",
    "Let's review the syntax and basics of python"
   ],
   "cell_type": "markdown",
   "metadata": {}
  },
  {
   "cell_type": "code",
   "execution_count": null,
   "metadata": {},
   "outputs": [],
   "source": [
    "# Let's do a little printing !\n",
    "day = 24\n",
    "if not 1 <= day <= 31:\n",
    "    raise ValueError(\"You chose a day outside of 1-31, that's not possible !\")\n",
    "month = \"december\"\n",
    "temperature = 7.599999 #°C\n",
    "if day is 25 and month is \"december\":\n",
    "    santa_claus_distance = 0.0 #m\n",
    "else:\n",
    "    santa_claus_distance = 3.844e8 #m, Santa lives on the moon\n",
    "\n",
    "print(f\"Today, we are {month} {day}, and the temperature outside is {temperature:6.2f}°C. \\n \\t Santa claus is {int(santa_claus_distance/1000.0)} km away\")"
   ]
  },
  {
   "cell_type": "code",
   "execution_count": null,
   "metadata": {},
   "outputs": [],
   "source": [
    "import time\n",
    "\n",
    "for i in range(128):\n",
    "    print(f\"We are printing i : {i:4d}\")\n",
    "    time.sleep(0.05)#seconds"
   ]
  },
  {
   "cell_type": "code",
   "execution_count": null,
   "metadata": {},
   "outputs": [],
   "source": [
    "x = 25789647851244.0\n",
    "y = 48578368712687.0\n",
    "z = (x**2+3*y) / (y//10) %31\n",
    "print(z)\n",
    "print(int(z))"
   ]
  },
  {
   "cell_type": "code",
   "execution_count": null,
   "metadata": {},
   "outputs": [],
   "source": [
    "def least_difference(a, b, c):\n",
    "    \"\"\"Return the smallest difference between any two numbers\n",
    "    among a, b and c.\n",
    "    \n",
    "    >>> least_difference(1, 5, -5)\n",
    "    4\n",
    "    \"\"\"\n",
    "    diff1 = abs(a - b)\n",
    "    diff2 = abs(b - c)\n",
    "    diff3 = abs(a - c)\n",
    "    return min(diff1, diff2, diff3)\n",
    "\n",
    "test = True\n",
    "if test:\n",
    "    print(least_difference(10,17,-55))"
   ]
  },
  {
   "cell_type": "code",
   "execution_count": null,
   "metadata": {},
   "outputs": [],
   "source": [
    "def inspect(x):\n",
    "    if x == 0:\n",
    "        print(x, \"is zero\")\n",
    "    elif x > 0:\n",
    "        print(x, \"is positive\")\n",
    "    elif x < 0:\n",
    "        print(x, \"is negative\")\n",
    "    else:\n",
    "        print(x, \"is unlike anything I've ever seen...\")\n",
    "\n",
    "inspect(0)\n",
    "inspect(-15)"
   ]
  },
  {
   "cell_type": "code",
   "execution_count": null,
   "metadata": {},
   "outputs": [],
   "source": [
    "primes = [2, 3, 5, 7]\n",
    "planets = ['Mercury', 'Venus', 'Earth', 'Mars', 'Jupiter', 'Saturn', 'Uranus', 'Neptune']\n",
    "hands = [\n",
    "    ['J', 'Q', 'K'],\n",
    "    ['2', '2', '2'],\n",
    "    ['6', 'A', 'K'], # (Comma after the last element is optional)\n",
    "]\n",
    "# (I could also have written this on one line, but it can get hard to read)\n",
    "hands = [['J', 'Q', 'K'], ['2', '2', '2'], ['6', 'A', 'K']]\n",
    "my_favourite_things = [32, 'raindrops on roses', help]"
   ]
  },
  {
   "source": [
    "Let's play a bit with lists indexing"
   ],
   "cell_type": "markdown",
   "metadata": {}
  },
  {
   "cell_type": "code",
   "execution_count": null,
   "metadata": {},
   "outputs": [],
   "source": [
    "planets[0]\n",
    "planets[1]\n",
    "planets[-1]\n",
    "planets[0:3]\n",
    "planets[:3]\n",
    "planets[3:]\n",
    "planets[1:-1]\n",
    "planets[-3:]"
   ]
  },
  {
   "cell_type": "code",
   "execution_count": null,
   "metadata": {},
   "outputs": [],
   "source": [
    "planets[3] = 'Malacandra'\n",
    "planets[:3] = ['Mur', 'Vee', 'Ur']\n",
    "print(planets)\n",
    "\n",
    "# That was silly. Let's give them back their old names\n",
    "planets[:4] = ['Mercury', 'Venus', 'Earth', 'Mars',]\n",
    "# How many planets are there?\n",
    "len(planets)\n",
    "# The planets sorted in alphabetical order\n",
    "sorted(planets)"
   ]
  },
  {
   "cell_type": "code",
   "execution_count": null,
   "metadata": {},
   "outputs": [],
   "source": [
    "planets.append('Pluto')\n",
    "planets.pop()\n",
    "planets.index('Earth')\n",
    "planets.index('Pluto')"
   ]
  },
  {
   "cell_type": "code",
   "execution_count": null,
   "metadata": {},
   "outputs": [],
   "source": [
    "# Is Earth a planet?\n",
    "\"Earth\" in planets\n",
    "\n",
    "# Is Calbefraques a planet?\n",
    "\"Calbefraques\" in planets"
   ]
  },
  {
   "cell_type": "code",
   "execution_count": null,
   "metadata": {},
   "outputs": [],
   "source": [
    "x = 12\n",
    "# x is a real number, so its imaginary part is 0.\n",
    "print(x.imag)\n",
    "# Here's how to make a complex number, in case you've ever been curious:\n",
    "c = 12 + 3j\n",
    "print(c.imag)"
   ]
  },
  {
   "cell_type": "code",
   "execution_count": null,
   "metadata": {},
   "outputs": [],
   "source": [
    "what_is = {\n",
    "    'cat':'furry animal that eats mice',\n",
    "    'apple':'fruit that tastes nice',\n",
    "    'dog':'furry animal that eats bones',\n",
    "    'seal':'water animal that likes fish',\n",
    "    'turnip':'not a very tasty vegetable',\n",
    "}\n",
    "print(what_is['cat'])\n",
    "print(what_is.keys())\n",
    "print(what_is.values())"
   ]
  },
  {
   "cell_type": "code",
   "execution_count": null,
   "metadata": {},
   "outputs": [],
   "source": [
    "ages = {\n",
    "    'tom':24,\n",
    "    'kim':36,\n",
    "    'ben':19,\n",
    "    'jon':41,\n",
    "}\n",
    "for k in ages.keys():\n",
    "    print(f\"{k} is {ages[k]} years old\")"
   ]
  },
  {
   "cell_type": "code",
   "execution_count": null,
   "metadata": {},
   "outputs": [],
   "source": []
  }
 ]
}