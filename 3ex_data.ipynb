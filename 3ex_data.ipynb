{
 "metadata": {
  "language_info": {
   "codemirror_mode": {
    "name": "ipython",
    "version": 3
   },
   "file_extension": ".py",
   "mimetype": "text/x-python",
   "name": "python",
   "nbconvert_exporter": "python",
   "pygments_lexer": "ipython3",
   "version": "3.8.3-final"
  },
  "orig_nbformat": 2,
  "kernelspec": {
   "name": "python3",
   "display_name": "Python 3",
   "language": "python"
  }
 },
 "nbformat": 4,
 "nbformat_minor": 2,
 "cells": [
  {
   "source": [
    "# Data\n",
    "\n",
    "Now it's your turn to work !"
   ],
   "cell_type": "markdown",
   "metadata": {}
  },
  {
   "source": [
    "## Columns\n",
    "\n",
    "Add a column to df containing the \"steering wheel angle offset\", and convert it from radians in degrees\n",
    "\n",
    "Add 2 columns to df containing the x and y pose of the first obstacle (in local frame)\n",
    "\n"
   ],
   "cell_type": "markdown",
   "metadata": {}
  },
  {
   "source": [
    "## Obstacles\n",
    "\n",
    "Make a list of list of obstacles (one list of obstacle per messagedata)"
   ],
   "cell_type": "markdown",
   "metadata": {}
  },
  {
   "source": [
    "## Queries\n",
    "\n",
    "Make a dataframe with only perception data from a certain bag with an SQL query (no download all)"
   ],
   "cell_type": "markdown",
   "metadata": {}
  },
  {
   "cell_type": "code",
   "execution_count": null,
   "metadata": {},
   "outputs": [],
   "source": []
  }
 ]
}