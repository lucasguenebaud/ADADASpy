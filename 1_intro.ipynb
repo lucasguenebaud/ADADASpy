{
 "metadata": {
  "language_info": {
   "codemirror_mode": {
    "name": "ipython",
    "version": 3
   },
   "file_extension": ".py",
   "mimetype": "text/x-python",
   "name": "python",
   "nbconvert_exporter": "python",
   "pygments_lexer": "ipython3",
   "version": "3.8.2-final"
  },
  "orig_nbformat": 2,
  "kernelspec": {
   "name": "python38264bitvadcc7e05bd1f044e42c1886738f36a2e71bd",
   "display_name": "Python 3.8.2 64-bit ('vadcc')"
  }
 },
 "nbformat": 4,
 "nbformat_minor": 2,
 "cells": [
  {
   "source": [
    "# Introduction\n",
    "Welcome to this python formation, for autonomous driving (AD) and advanced driving assitance systems (ADAS) !\n",
    "\n",
    "Here, you will learn about :\n",
    "- why python\n",
    "- how python works\n",
    "- how to do some basic python scripts\n",
    "- how data flows in a basic smart vehicle\n",
    "- how to interact with a database with python\n",
    "- how to display data in a meaningful way\n",
    "- how to process data that are specific to automobiles\n",
    "\n",
    "So let's get started !"
   ],
   "cell_type": "markdown",
   "metadata": {}
  },
  {
   "source": [
    "This course targets people who are already familiar with coding. So if it's not your case, you will be better off starting here [Python for non-coders](https://wiki.python.org/moin/BeginnersGuide/NonProgrammers)"
   ],
   "cell_type": "markdown",
   "metadata": {}
  },
  {
   "source": [
    "# What is it about this snake we keep talking about ?\n",
    "\n",
    "Python is a very modern language, constantly evolving and improving to fit in as many use cases as possible. It is extremely easy to use, and to prototype with as we'll see here, but it is also extremely robust to scale up with, and to transfer into ressource demanding applications.\n",
    "\n",
    "## Usage examples\n",
    "### Data Science\n",
    "Python is the most used language in data science. It is easy to use, you can do exactly what you want in a few lines every time, there are easy-to-install libraries for almost everything you could have in mind. It's so omnipresent that you litteraly can't do without it (appart from R, which is similar, but has far less usages than python).\n",
    "\n",
    "### Machine learning\n",
    "Every machine learning framework (Tensorflow, pytorch, keras, sklearn, etc.) work in python, there is no way around that. You can't do machine learning without this snake !\n",
    "\n",
    "### Embedded systems\n",
    "Most of modern ROS (robotic operating system, that runs a lot of communicating \"robotic\" devices, like autonomous cars, drones, industrial machines, etc.) is compiled python script. Python is easy to compile in binary optimized programs if that's what you need, and makes communication with the system, other program, memory, etc. much easier than the most advanced C/C++ frameworks. And if you know your way around it, it's basically as optimized as C++ (nothing can beat C though, but it's a gigantic pain to use for complex use cases).\n",
    "\n",
    "## Python is a very powerful tool\n",
    "So let's use it !"
   ],
   "cell_type": "markdown",
   "metadata": {}
  },
  {
   "source": [
    "# Installation\n",
    "We will not cover in details the topic of installation here, but it's not that hard, you can do it yourself without any trouble ! I strongly advise to use [Anaconda](https://www.anaconda.com/), the most powerful python environment manager out there.\n",
    "\n",
    "Download it [here](https://www.anaconda.com/products/individual), and follow the tutorials ! You should have python installed on your machine and running in no time !\n",
    "\n",
    "# Google Colab\n",
    "In the meantime, we will use [Google Colab](https://colab.research.google.com/), as it provides powerful python cores with a Jupyter interface, really easy to use, and most used libraries already installed, for free."
   ],
   "cell_type": "markdown",
   "metadata": {}
  },
  {
   "source": [
    "# How python works\n",
    "We'll not go too much into details here. But when you are working with it, python works in a *core*, that takes your *instructions* (script), and gives you back the *outputs*. The core itself runs as a *process* on your machine, or a server, and there are many *interfaces* to interact with it.\n",
    "\n",
    "## Line by line\n",
    "You can feed the core your instructions line by line. Try opening a terminal and write `ipython` and input some commands `print(\"Hellow world\")` or `1+1`\n",
    "\n",
    "## As a full script\n",
    "Created a file, my_script.py, and write python lines in it. The run `python my_script.py` in the terminal. Boom, your script executes.\n",
    "\n",
    "## Jupyter, great interfaces and frameworks\n",
    "Jupyter notebooks (*.ipynb*) allow you to mix python cells with dedicated output fields, markdown cells for text and explanations (like we're doing here). It's one of the most simple and powerful ways to do python. So if you're a beginner, stick with it for a while, it's great !\n",
    "\n",
    "There are many interfaces that are based around these jupyter cores. The one I'm using personally is the IDE VScode, which provides a TON of utility, and is both lightweight and flexible (provides good git management as well).\n",
    "\n",
    "# Let's get started !\n",
    "You have your Google Colab open with this Jupyter notebook ? Alright, let's see if it's working ! Run the cell bellow :"
   ],
   "cell_type": "markdown",
   "metadata": {}
  },
  {
   "cell_type": "code",
   "execution_count": 1,
   "metadata": {},
   "outputs": [
    {
     "output_type": "stream",
     "name": "stdout",
     "text": [
      "Hello world\n"
     ]
    }
   ],
   "source": [
    "print(\"Hello world\")"
   ]
  },
  {
   "source": [
    "Did you see this ?! \"Hello world\" ! Great, now, time to get to basic python, so you can start doing your own programs asap !"
   ],
   "cell_type": "markdown",
   "metadata": {}
  }
 ]
}